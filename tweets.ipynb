{
 "cells": [
  {
   "cell_type": "code",
   "execution_count": 45,
   "id": "6f1c4166-0a1f-435f-9314-6e0bd09d7718",
   "metadata": {},
   "outputs": [
    {
     "name": "stdout",
     "output_type": "stream",
     "text": [
      "                    id      conversation_id                created_at  \\\n",
      "0  1381273474400800773  1381002894032347138  2021-04-11 18:50:33 EEST   \n",
      "1  1381273076709478403  1372444955050971142  2021-04-11 18:48:58 EEST   \n",
      "2  1381258144916008964  1381230136918433792  2021-04-11 17:49:38 EEST   \n",
      "3  1381221447322935303  1381221447322935303  2021-04-11 15:23:49 EEST   \n",
      "4  1381129584435818496  1381079981485252611  2021-04-11 09:18:47 EEST   \n",
      "\n",
      "         date      time  timezone   user_id  username       name  place  ...  \\\n",
      "0  2021-04-11  18:50:33       300  44196397  elonmusk  Elon Musk    NaN  ...   \n",
      "1  2021-04-11  18:48:58       300  44196397  elonmusk  Elon Musk    NaN  ...   \n",
      "2  2021-04-11  17:49:38       300  44196397  elonmusk  Elon Musk    NaN  ...   \n",
      "3  2021-04-11  15:23:49       300  44196397  elonmusk  Elon Musk    NaN  ...   \n",
      "4  2021-04-11  09:18:47       300  44196397  elonmusk  Elon Musk    NaN  ...   \n",
      "\n",
      "  geo source user_rt_id user_rt retweet_id  \\\n",
      "0 NaN    NaN        NaN     NaN        NaN   \n",
      "1 NaN    NaN        NaN     NaN        NaN   \n",
      "2 NaN    NaN        NaN     NaN        NaN   \n",
      "3 NaN    NaN        NaN     NaN        NaN   \n",
      "4 NaN    NaN        NaN     NaN        NaN   \n",
      "\n",
      "                                            reply_to  retweet_date  translate  \\\n",
      "0  [{'screen_name': 'vincent13031925', 'name': 'V...           NaN        NaN   \n",
      "1                                                 []           NaN        NaN   \n",
      "2  [{'screen_name': 'agnostoxxx', 'name': 'Shrubb...           NaN        NaN   \n",
      "3                                                 []           NaN        NaN   \n",
      "4  [{'screen_name': 'itsALLrisky', 'name': '💸💸💸',...           NaN        NaN   \n",
      "\n",
      "  trans_src trans_dest  \n",
      "0       NaN        NaN  \n",
      "1       NaN        NaN  \n",
      "2       NaN        NaN  \n",
      "3       NaN        NaN  \n",
      "4       NaN        NaN  \n",
      "\n",
      "[5 rows x 36 columns]\n",
      "<class 'pandas.core.frame.DataFrame'>\n",
      "RangeIndex: 12562 entries, 0 to 12561\n",
      "Data columns (total 36 columns):\n",
      " #   Column           Non-Null Count  Dtype  \n",
      "---  ------           --------------  -----  \n",
      " 0   id               12562 non-null  int64  \n",
      " 1   conversation_id  12562 non-null  int64  \n",
      " 2   created_at       12562 non-null  object \n",
      " 3   date             12562 non-null  object \n",
      " 4   time             12562 non-null  object \n",
      " 5   timezone         12562 non-null  int64  \n",
      " 6   user_id          12562 non-null  int64  \n",
      " 7   username         12562 non-null  object \n",
      " 8   name             12562 non-null  object \n",
      " 9   place            0 non-null      float64\n",
      " 10  tweet            12562 non-null  object \n",
      " 11  language         12562 non-null  object \n",
      " 12  mentions         12562 non-null  object \n",
      " 13  urls             12562 non-null  object \n",
      " 14  photos           12562 non-null  object \n",
      " 15  replies_count    12562 non-null  int64  \n",
      " 16  retweets_count   12562 non-null  int64  \n",
      " 17  likes_count      12562 non-null  int64  \n",
      " 18  hashtags         12562 non-null  object \n",
      " 19  cashtags         12562 non-null  object \n",
      " 20  link             12562 non-null  object \n",
      " 21  retweet          12562 non-null  bool   \n",
      " 22  quote_url        410 non-null    object \n",
      " 23  video            12562 non-null  int64  \n",
      " 24  thumbnail        792 non-null    object \n",
      " 25  near             0 non-null      float64\n",
      " 26  geo              0 non-null      float64\n",
      " 27  source           0 non-null      float64\n",
      " 28  user_rt_id       0 non-null      float64\n",
      " 29  user_rt          0 non-null      float64\n",
      " 30  retweet_id       0 non-null      float64\n",
      " 31  reply_to         12562 non-null  object \n",
      " 32  retweet_date     0 non-null      float64\n",
      " 33  translate        0 non-null      float64\n",
      " 34  trans_src        0 non-null      float64\n",
      " 35  trans_dest       0 non-null      float64\n",
      "dtypes: bool(1), float64(11), int64(8), object(16)\n",
      "memory usage: 3.4+ MB\n",
      "None\n"
     ]
    }
   ],
   "source": [
    "import pandas as pd\n",
    "\n",
    "# Charger le dataset\n",
    "df = pd.read_csv(\"TweetsElonMusk.csv\")\n",
    "\n",
    "# Aperçu des données\n",
    "print(df.head())\n",
    "print(df.info())\n",
    "\n"
   ]
  },
  {
   "cell_type": "code",
   "execution_count": 37,
   "id": "ad792474-13fe-4c45-b819-03d1d1705234",
   "metadata": {},
   "outputs": [
    {
     "name": "stdout",
     "output_type": "stream",
     "text": [
      "Index 0: '0'\n",
      "Index 1: '1'\n",
      "Index 2: '2'\n",
      "Index 3: '3'\n",
      "Index 4: '4'\n",
      "Index 5: '5'\n",
      "Index 6: '6'\n",
      "Index 7: '7'\n",
      "Index 8: '8'\n",
      "Index 9: '9'\n",
      "Index 10: '10'\n",
      "Index 11: '11'\n",
      "Index 12: '12'\n",
      "Index 13: '13'\n",
      "Index 14: '14'\n",
      "Index 15: '15'\n",
      "Index 16: '16'\n",
      "Index 17: '17'\n",
      "Index 18: '18'\n",
      "Index 19: '19'\n",
      "Index 20: '20'\n",
      "Index 21: '21'\n",
      "Index 22: '22'\n",
      "Index 23: '23'\n",
      "Index 24: '24'\n",
      "Index 25: '25'\n",
      "Index 26: '26'\n",
      "Index 27: '27'\n",
      "Index 28: '28'\n",
      "Index 29: '29'\n",
      "Index 30: '30'\n",
      "Index 31: '31'\n",
      "Index 32: '32'\n",
      "Index 33: '33'\n",
      "Index 34: '34'\n",
      "Index 35: '35'\n"
     ]
    }
   ],
   "source": [
    "# Liste des noms de colonnes avec des indices\n",
    "for i, col in enumerate(df.columns):\n",
    "    print(f\"Index {i}: '{col}'\")\n"
   ]
  },
  {
   "cell_type": "code",
   "execution_count": 51,
   "id": "3ec0ffc6-f3f9-4188-bb19-008f18982282",
   "metadata": {},
   "outputs": [],
   "source": [
    "import re\n",
    "\n",
    "def nettoyer_texte(texte):\n",
    "    texte = re.sub(r'http\\S+', '', texte)  # Supprimer les URL\n",
    "    texte = re.sub(r'@\\w+', '', texte)    # Supprimer les mentions\n",
    "    texte = re.sub(r'#\\w+', '', texte)    # Supprimer les hashtags\n",
    "    texte = re.sub(r'[^\\w\\s]', '', texte) # Supprimer la ponctuation\n",
    "    texte = texte.lower()                # Convertir en minuscules\n",
    "    return texte\n",
    "\n",
    "df['Cleaned_Tweet'] = df['tweet'].apply(nettoyer_texte)\n"
   ]
  },
  {
   "cell_type": "code",
   "execution_count": 53,
   "id": "180f1526-1dbd-4ec5-8dd5-1c7cbcfa1fe5",
   "metadata": {},
   "outputs": [
    {
     "name": "stderr",
     "output_type": "stream",
     "text": [
      "[nltk_data] Downloading package punkt to\n",
      "[nltk_data]     C:\\Users\\User\\AppData\\Roaming\\nltk_data...\n",
      "[nltk_data]   Package punkt is already up-to-date!\n"
     ]
    }
   ],
   "source": [
    "#Divisez les tweets en mots.\n",
    "import nltk\n",
    "nltk.download('punkt')\n",
    "\n",
    "def tokenizer(texte):\n",
    "    return nltk.word_tokenize(texte)\n",
    "\n",
    "df['Tokens'] = df['Cleaned_Tweet'].apply(tokenizer)\n"
   ]
  },
  {
   "cell_type": "code",
   "execution_count": 55,
   "id": "a635f511-ef06-4197-8642-e1844fc61d1f",
   "metadata": {},
   "outputs": [
    {
     "name": "stderr",
     "output_type": "stream",
     "text": [
      "[nltk_data] Downloading package stopwords to\n",
      "[nltk_data]     C:\\Users\\User\\AppData\\Roaming\\nltk_data...\n",
      "[nltk_data]   Package stopwords is already up-to-date!\n"
     ]
    }
   ],
   "source": [
    "# Retirez les mots sans valeur informative (stopwords).\n",
    "from nltk.corpus import stopwords\n",
    "nltk.download('stopwords')\n",
    "\n",
    "stop_words = set(stopwords.words('english'))\n",
    "\n",
    "def supprimer_stopwords(tokens):\n",
    "    return [mot for mot in tokens if mot not in stop_words]\n",
    "\n",
    "df['Tokens'] = df['Tokens'].apply(supprimer_stopwords)\n"
   ]
  },
  {
   "cell_type": "code",
   "execution_count": 61,
   "id": "f9a56517-e49d-491d-95a0-15edb218bc5d",
   "metadata": {},
   "outputs": [
    {
     "name": "stderr",
     "output_type": "stream",
     "text": [
      "[nltk_data] Downloading package wordnet to\n",
      "[nltk_data]     C:\\Users\\User\\AppData\\Roaming\\nltk_data...\n",
      "[nltk_data]   Package wordnet is already up-to-date!\n"
     ]
    }
   ],
   "source": [
    "#Réduisez les mots à leur forme de base.\n",
    "from nltk.stem import WordNetLemmatizer\n",
    "nltk.download('wordnet')\n",
    "\n",
    "lemmatizer = WordNetLemmatizer()\n",
    "\n",
    "def lemmatize(tokens):\n",
    "    return [lemmatizer.lemmatize(token) for token in tokens]\n",
    "\n",
    "df['Lemmatized_Tokens'] = df['Tokens'].apply(lemmatize)\n"
   ]
  },
  {
   "cell_type": "code",
   "execution_count": 63,
   "id": "b83c1e4b-aef4-4005-b59e-5fce5c5e8fd9",
   "metadata": {},
   "outputs": [],
   "source": [
    "#Convertissez les tweets en vecteurs numériques\n",
    "from sklearn.feature_extraction.text import TfidfVectorizer\n",
    "\n",
    "vectorizer = TfidfVectorizer()\n",
    "X = vectorizer.fit_transform(df['Cleaned_Tweet'])\n"
   ]
  },
  {
   "cell_type": "code",
   "execution_count": 65,
   "id": "be05110d-3d17-42a4-b71a-058201a2fb21",
   "metadata": {},
   "outputs": [],
   "source": [
    "#Clustering avec K-Means\n",
    "from sklearn.cluster import KMeans\n",
    "\n",
    "kmeans = KMeans(n_clusters=10, random_state=0)  # Choisissez k=10 comme exemple\n",
    "df['Cluster'] = kmeans.fit_predict(X)\n"
   ]
  },
  {
   "cell_type": "code",
   "execution_count": 67,
   "id": "28c8cf63-3a1f-498c-b4db-49c5d2effe12",
   "metadata": {},
   "outputs": [],
   "source": [
    "#Clustering avec Fuzzy C-Means\n",
    "import skfuzzy as fuzz\n",
    "\n",
    "def fuzzy_cmeans(X, c):\n",
    "    X = X.toarray()\n",
    "    cntr, u, _, _, _, _, _ = fuzz.cluster.cmeans(\n",
    "        X.T, c=c, m=2, error=0.005, maxiter=1000)\n",
    "    cluster_membership = u.argmax(axis=0)\n",
    "    return cluster_membership\n",
    "\n",
    "df['Fuzzy_Cluster'] = fuzzy_cmeans(X, c=10)\n"
   ]
  },
  {
   "cell_type": "code",
   "execution_count": 71,
   "id": "a52c9c21-6891-4ffb-b9d6-6648cf0b6926",
   "metadata": {},
   "outputs": [
    {
     "name": "stdout",
     "output_type": "stream",
     "text": [
      "['@engineers_feed Due to lower gravity, you can travel from surface of Mars to surface of Earth fairly easily with a single stage rocket. Earth to Mars is vastly harder.', '@agnostoxxx @CathieDWood @ARKInvest Trust the shrub', '@vincent13031925 For now. Costs are decreasing rapidly.', '@WholeMarsBlog If you don’t say anything &amp; engage Autopilot, it will soon guess based on time of day, taking you home or to work or to what’s on your calendar', '@louisssdev @flcnhvy Coming soon. Crazy number of launches this year!', '@allrocketsboi True', '@AustinTeslaClub @OwenSparks_ @WholeMarsBlog Good point.   Next major software rev will do much better with automating wipers, seat heating &amp; defrost.   Probable seat settings just based on occupant mass distribution should be possible.', 'No it doesn’t hurt at all 🩸  https://t.co/NnL6o1si0V', '@lexfridman @neuralink Yes', '@ICannot_Enough @AloysiusFekete @RationalEtienne @biogirl09 @ErcXspace Exactly']\n"
     ]
    }
   ],
   "source": [
    "#Sélection du Tweet représentatif par Cluster : Choisissez un tweet central dans chaque cluster.\n",
    "representatives = []\n",
    "for cluster in range(10):  # Nombre de clusters\n",
    "    cluster_tweets = df[df['Cluster'] == cluster]\n",
    "    representatives.append(cluster_tweets.iloc[0]['tweet'])  # Premier tweet du cluster\n",
    "print(representatives)\n"
   ]
  },
  {
   "cell_type": "code",
   "execution_count": 73,
   "id": "30bca3cb-81f3-4aa0-93b3-6cc7da3a6025",
   "metadata": {},
   "outputs": [
    {
     "data": {
      "image/png": "[encoded data removed]",
      "text/plain": [
       "<Figure size 640x480 with 1 Axes>"
      ]
     },
     "metadata": {},
     "output_type": "display_data"
    }
   ],
   "source": [
    "#Utilisez une réduction de dimension comme PCA pour visualiser les clusters.\n",
    "from sklearn.decomposition import PCA\n",
    "import matplotlib.pyplot as plt\n",
    "\n",
    "pca = PCA(n_components=2)\n",
    "X_reduced = pca.fit_transform(X.toarray())\n",
    "\n",
    "plt.scatter(X_reduced[:, 0], X_reduced[:, 1], c=df['Cluster'], cmap='viridis')\n",
    "plt.title(\"Visualisation des Clusters\")\n",
    "plt.show()\n"
   ]
  },
  {
   "cell_type": "code",
   "execution_count": 75,
   "id": "b64b47ac-f7af-4707-a466-6a28f4f0aac2",
   "metadata": {},
   "outputs": [],
   "source": [
    "df.to_csv(\"TweetsElonMusk_Clustered.csv\", index=False)\n"
   ]
  },
  {
   "cell_type": "code",
   "execution_count": null,
   "id": "fd6380f0-712b-4510-a2b9-9e49cdb10252",
   "metadata": {},
   "outputs": [],
   "source": []
  }
 ],
 "metadata": {
  "kernelspec": {
   "display_name": "Python 3 (ipykernel)",
   "language": "python",
   "name": "python3"
  },
  "language_info": {
   "codemirror_mode": {
    "name": "ipython",
    "version": 3
   },
   "file_extension": ".py",
   "mimetype": "text/x-python",
   "name": "python",
   "nbconvert_exporter": "python",
   "pygments_lexer": "ipython3",
   "version": "3.12.3"
  }
 },
 "nbformat": 4,
 "nbformat_minor": 5
}
